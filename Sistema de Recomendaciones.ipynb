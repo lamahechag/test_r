{
 "cells": [
  {
   "cell_type": "markdown",
   "metadata": {},
   "source": [
    "\n",
    "**1)** Sistema de Recomendación Hipotético: Actualmente en Rappi contamos con una sección de \"Favoritos\" para los usuarios que se basa en el histórico de compra. Sin embargo, deseamos experimentar con una sección similar de \"Recomendados\" similar a Amazon. Tenemos la hipótesis que un sistema de recomendación tradicional no nos funcionaria. Primero por el volumen de datos, contamos con alrededor de 1M de usuarios y cerca a 1M de productos distintos, lo que resultaría matrices de 1M x 1M y suponiendo operaciones matriciales estándar eso se traduciría en alrededor de 1e36 operaciones para calcular un vector de recomendados para todos los usuarios. Sugiera una solución alternativa para desarrollar una sección de recomendados O sugiera mejoras al sistema de recomendación estándar para que sea factible su implementación. Que tecnologías usuaria? Que algoritmos? Que mecanismo propone para mitigar impactos de rendimiento en las bases de datos y/o servidores?\n",
    "\n",
    "_Respuesta_\n",
    "\n",
    "    Si tenemos $n$ usuarios y $m$ productos. Una matriz $nXm$ de calificación o scoring es un overfitting de las preferencias de los usuarios por los productos, lo cual requiere mucha memoria y CPU para encontrar similitudes entre usuarios o productos. Para resolver esto podemos usar una matriz de menos dimenciones descartando variables que no aportan información. Esta reducción de dimenciones se puede hacer con factorización de matrices y SVD(Singular Value Decomposition).\n",
    "\n",
    "    Este método de reducción de dimenciones puede reconocer conceptos desde la perspectiva de mineria de texto. Para una aplicación como Rappi; por ejemplo los productos(variables) 'Sushi' y 'Ramen' los reduciria a 'Comida Asiatica'.\n",
    "\n",
    "    En cuanto infraestructura para hacer la aplicación aun mas rapida, se deberia usar Spark y Scala para paralelizar los calculos de las similaridades entre productos o usuarios y encontrar los sets de recomendaciones. Si se necesita aun mas velocidad, se podria scribir el algoritmo de similitud en `C++` que es 3 veces mas rapido que Scala. \n",
    "\n",
    "**2)** Basado en el problema anterior. Suponiendo que el scoring o calificación de un usuario a un producto es la cantidad/frecuencia con la que dicho usuario compra un producto, que modelos de predicción o métodos de estimación usaría para calcular/estimar el scoring que un usuario daría a un producto que nunca ha comprado/visto.\n",
    "\n",
    "_Respuesta_\n",
    "\n",
    "    Con la factorización de matrices se optuvieron vectores de menor dimención que representan a los usuarios y a los productos. Con el producto punto entre el vector de un usuario el vector de un item que el usuario no ha comprado antes, se puede predecir la calificación que le dara el usuario.\n",
    "\n",
    "    Otro metodo seria calcular las distacias entre usuarios y usar un algoritmo de clustering aglomerativo. Seleccionar algun usuario y promediar con peso en la distancia la calificacion que sus vecinos le dan a items que el no ha comprado. \n",
    "\n",
    "_Referencias_\n",
    "\n",
    "https://jyx.jyu.fi/dspace/bitstream/handle/123456789/54905/URN%3ANBN%3Afi%3Ajyu-201707103285.pdf?sequence=1\n",
    "\n",
    "https://www.quora.com/Which-algorithms-are-used-in-recommender-systems\n",
    "\n",
    "http://technocalifornia.blogspot.com.co/2014/08/introduction-to-recommender-systems-4.html\n",
    "\n",
    "https://www.kaggle.com/gspmoreira/recommender-systems-in-python-101\n",
    "\n",
    "https://www.analyticsvidhya.com/blog/2016/06/quick-guide-build-recommendation-engine-python/\n",
    "\n",
    "https://www.analyticsvidhya.com/blog/2016/03/exploring-building-banks-recommendation-system/"
   ]
  },
  {
   "cell_type": "code",
   "execution_count": null,
   "metadata": {
    "collapsed": true
   },
   "outputs": [],
   "source": []
  }
 ],
 "metadata": {
  "kernelspec": {
   "display_name": "Python 3",
   "language": "python",
   "name": "python3"
  },
  "language_info": {
   "codemirror_mode": {
    "name": "ipython",
    "version": 3
   },
   "file_extension": ".py",
   "mimetype": "text/x-python",
   "name": "python",
   "nbconvert_exporter": "python",
   "pygments_lexer": "ipython3",
   "version": "3.6.1"
  }
 },
 "nbformat": 4,
 "nbformat_minor": 2
}
