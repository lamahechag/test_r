{
 "cells": [
  {
   "cell_type": "markdown",
   "metadata": {},
   "source": [
    "https://jyx.jyu.fi/dspace/bitstream/handle/123456789/54905/URN%3ANBN%3Afi%3Ajyu-201707103285.pdf?sequence=1\n",
    "\n",
    "https://www.quora.com/Which-algorithms-are-used-in-recommender-systems\n",
    "\n",
    "http://technocalifornia.blogspot.com.co/2014/08/introduction-to-recommender-systems-4.html"
   ]
  },
  {
   "cell_type": "code",
   "execution_count": null,
   "metadata": {},
   "outputs": [],
   "source": []
  }
 ],
 "metadata": {
  "kernelspec": {
   "display_name": "Python 3",
   "language": "python",
   "name": "python3"
  },
  "language_info": {
   "codemirror_mode": {
    "name": "ipython",
    "version": 3
   },
   "file_extension": ".py",
   "mimetype": "text/x-python",
   "name": "python",
   "nbconvert_exporter": "python",
   "pygments_lexer": "ipython3",
   "version": "3.6.2"
  }
 },
 "nbformat": 4,
 "nbformat_minor": 2
}
