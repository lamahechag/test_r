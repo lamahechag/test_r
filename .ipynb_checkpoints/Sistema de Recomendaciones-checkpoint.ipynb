{
 "cells": [
  {
   "cell_type": "markdown",
   "metadata": {},
   "source": [
    "https://jyx.jyu.fi/dspace/bitstream/handle/123456789/54905/URN%3ANBN%3Afi%3Ajyu-201707103285.pdf?sequence=1\n",
    "\n",
    "https://www.quora.com/Which-algorithms-are-used-in-recommender-systems\n",
    "\n",
    "http://technocalifornia.blogspot.com.co/2014/08/introduction-to-recommender-systems-4.html"
   ]
  },
  {
   "cell_type": "markdown",
   "metadata": {},
   "source": [
    "\n",
    "2. Sistema de Recomendación Hipotético: Actualmente en Rappi contamos con una sección de \"Favoritos\" para los usuarios que se basa en el histórico de compra. Sin embargo, deseamos experimentar con una sección similar de \"Recomendados\" similar a Amazon. Tenemos la hipótesis que un sistema de recomendación tradicional no nos funcionaria. Primero por el volumen de datos, contamos con alrededor de 1M de usuarios y cerca a 1M de productos distintos, lo que resultaría matrices de 1M x 1M y suponiendo operaciones matriciales estándar eso se traduciría en alrededor de 1e36 operaciones para calcular un vector de recomendados para todos los usuarios. Sugiera una solución alternativa para desarrollar una sección de recomendados O sugiera mejoras al sistema de recomendación estándar para que sea factible su implementación. Que tecnologías usuaria? Que algoritmos? Que mecanismo propone para mitigar impactos de rendimiento en las bases de datos y/o servidores? \n",
    "\n",
    "3. Basado en el problema anterior. Suponiendo que el scoring o calificación de un usuario a un producto es la cantidad/frecuencia con la que dicho usuario compra un producto, que modelos de predicción o métodos de estimación usaría para calcular/estimar el scoring que un usuario daría a un producto que nunca ha comprado/visto."
   ]
  },
  {
   "cell_type": "markdown",
   "metadata": {},
   "source": [
    "https://www.kaggle.com/gspmoreira/recommender-systems-in-python-101\n",
    "\n",
    "https://www.analyticsvidhya.com/blog/2016/06/quick-guide-build-recommendation-engine-python/\n",
    "\n",
    "https://www.analyticsvidhya.com/blog/2016/03/exploring-building-banks-recommendation-system/"
   ]
  },
  {
   "cell_type": "code",
   "execution_count": null,
   "metadata": {},
   "outputs": [],
   "source": []
  }
 ],
 "metadata": {
  "kernelspec": {
   "display_name": "Python 3",
   "language": "python",
   "name": "python3"
  },
  "language_info": {
   "codemirror_mode": {
    "name": "ipython",
    "version": 3
   },
   "file_extension": ".py",
   "mimetype": "text/x-python",
   "name": "python",
   "nbconvert_exporter": "python",
   "pygments_lexer": "ipython3",
   "version": "3.6.2"
  }
 },
 "nbformat": 4,
 "nbformat_minor": 2
}
