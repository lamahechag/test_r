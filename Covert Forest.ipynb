{
 "cells": [
  {
   "cell_type": "code",
   "execution_count": 29,
   "metadata": {},
   "outputs": [],
   "source": [
    "import pandas as pd\n",
    "\n",
    "columns = ['Elevation',\n",
    "'Aspect',\n",
    "'Slope',\n",
    "'Horizontal_Distance_To_Hydrology',\n",
    "'Vertical_Distance_To_Hydrology',\n",
    "'Horizontal_Distance_To_Roadways',\n",
    "'Hillshade_9am',\n",
    "'Hillshade_Noon',\n",
    "'Hillshade_3pm',\n",
    "'Horizontal_Distance_To_Fire_Points']\n",
    "for i in range(1,5):\n",
    "    #print(f\"Wilderness_Area_{i}\")\n",
    "    columns.append(f\"Wilderness_Area_{i}\")\n",
    "for i in range(1,41):\n",
    "    #print(f\"Soil_Type_{i}\")\n",
    "    columns.append(f\"Soil_Type_{i}\")\n",
    "columns.append(\"Cover_Type\")"
   ]
  },
  {
   "cell_type": "code",
   "execution_count": 31,
   "metadata": {},
   "outputs": [],
   "source": [
    "ta = pd.read_table('covtype.data', sep=',', names=columns)"
   ]
  },
  {
   "cell_type": "code",
   "execution_count": 38,
   "metadata": {},
   "outputs": [
    {
     "data": {
      "text/plain": [
       "2    283301\n",
       "1    211840\n",
       "3     35754\n",
       "7     20510\n",
       "6     17367\n",
       "5      9493\n",
       "4      2747\n",
       "Name: Cover_Type, dtype: int64"
      ]
     },
     "execution_count": 38,
     "metadata": {},
     "output_type": "execute_result"
    }
   ],
   "source": [
    "ta.Cover_Type.value_counts()"
   ]
  },
  {
   "cell_type": "code",
   "execution_count": null,
   "metadata": {},
   "outputs": [],
   "source": []
  }
 ],
 "metadata": {
  "kernelspec": {
   "display_name": "Python 3",
   "language": "python",
   "name": "python3"
  },
  "language_info": {
   "codemirror_mode": {
    "name": "ipython",
    "version": 3
   },
   "file_extension": ".py",
   "mimetype": "text/x-python",
   "name": "python",
   "nbconvert_exporter": "python",
   "pygments_lexer": "ipython3",
   "version": "3.6.2"
  }
 },
 "nbformat": 4,
 "nbformat_minor": 2
}
